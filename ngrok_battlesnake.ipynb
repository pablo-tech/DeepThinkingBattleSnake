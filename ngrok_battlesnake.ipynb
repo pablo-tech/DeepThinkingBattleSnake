{
  "nbformat": 4,
  "nbformat_minor": 0,
  "metadata": {
    "colab": {
      "provenance": [],
      "gpuType": "T4"
    },
    "kernelspec": {
      "name": "python3",
      "display_name": "Python 3"
    },
    "language_info": {
      "name": "python"
    },
    "accelerator": "GPU"
  },
  "cells": [
    {
      "cell_type": "markdown",
      "source": [
        "# Home\n",
        "\n"
      ],
      "metadata": {
        "id": "gj-1NHdQtF44"
      }
    },
    {
      "cell_type": "code",
      "source": [
        "WORK_DIR = \"/content/drive/MyDrive/BattleSnake\"\n",
        "REPO_NAME = \"DeepThinkingBattleSnake\"\n",
        "GIT_HOME = \"https://github.com/pablo-tech/\"\n",
        "GIT_REPO = GIT_HOME + REPO_NAME\n",
        "REPO_DIR = WORK_DIR + \"/\" + REPO_NAME"
      ],
      "metadata": {
        "id": "GOMTECTQuxzB"
      },
      "execution_count": 1,
      "outputs": []
    },
    {
      "cell_type": "code",
      "source": [
        "!mkdir -p $WORK_DIR"
      ],
      "metadata": {
        "id": "nIJp4GFneWCL"
      },
      "execution_count": 2,
      "outputs": []
    },
    {
      "cell_type": "code",
      "source": [
        "import os\n",
        "\n",
        "os.chdir(WORK_DIR)"
      ],
      "metadata": {
        "id": "OKqcBeE-R3B9"
      },
      "execution_count": 3,
      "outputs": []
    },
    {
      "cell_type": "code",
      "source": [
        "!rm -rf $REPO_NAME"
      ],
      "metadata": {
        "id": "VpWUcir1uCSn"
      },
      "execution_count": 4,
      "outputs": []
    },
    {
      "cell_type": "markdown",
      "source": [
        "# Git"
      ],
      "metadata": {
        "id": "wlazaWmqNW8V"
      }
    },
    {
      "cell_type": "code",
      "execution_count": 5,
      "metadata": {
        "colab": {
          "base_uri": "https://localhost:8080/"
        },
        "id": "i5u9GtzlRyVv",
        "outputId": "1106c191-f2d8-4265-cfc4-b295d9664920"
      },
      "outputs": [
        {
          "output_type": "stream",
          "name": "stdout",
          "text": [
            "Cloning into 'DeepThinkingBattleSnake'...\n",
            "remote: Enumerating objects: 283, done.\u001b[K\n",
            "remote: Counting objects: 100% (90/90), done.\u001b[K\n",
            "remote: Compressing objects: 100% (62/62), done.\u001b[K\n",
            "remote: Total 283 (delta 53), reused 62 (delta 28), pack-reused 193\u001b[K\n",
            "Receiving objects: 100% (283/283), 14.88 MiB | 9.76 MiB/s, done.\n",
            "Resolving deltas: 100% (163/163), done.\n"
          ]
        }
      ],
      "source": [
        "!git clone $GIT_REPO"
      ]
    },
    {
      "cell_type": "code",
      "source": [
        "os.chdir(REPO_DIR)"
      ],
      "metadata": {
        "id": "wC1Ew-KavRM-"
      },
      "execution_count": 6,
      "outputs": []
    },
    {
      "cell_type": "code",
      "source": [
        "!pwd"
      ],
      "metadata": {
        "colab": {
          "base_uri": "https://localhost:8080/"
        },
        "id": "GxWgAggMvWEe",
        "outputId": "bad0260a-1c41-4582-f88a-e3d0024d1cfc"
      },
      "execution_count": 7,
      "outputs": [
        {
          "output_type": "stream",
          "name": "stdout",
          "text": [
            "/content/drive/MyDrive/BattleSnake/DeepThinkingBattleSnake\n"
          ]
        }
      ]
    },
    {
      "cell_type": "code",
      "source": [
        "!git checkout ngrok"
      ],
      "metadata": {
        "colab": {
          "base_uri": "https://localhost:8080/"
        },
        "id": "gD5mUpgAtlR4",
        "outputId": "b78c3622-ed59-4857-e7df-1c79b7a5ecb2"
      },
      "execution_count": 8,
      "outputs": [
        {
          "output_type": "stream",
          "name": "stdout",
          "text": [
            "Branch 'ngrok' set up to track remote branch 'ngrok' from 'origin'.\n",
            "Switched to a new branch 'ngrok'\n"
          ]
        }
      ]
    },
    {
      "cell_type": "code",
      "source": [
        "!git pull"
      ],
      "metadata": {
        "colab": {
          "base_uri": "https://localhost:8080/"
        },
        "id": "JUKLWkzMuYwJ",
        "outputId": "69318052-b88b-42a9-a37d-12f22346e5ec"
      },
      "execution_count": 9,
      "outputs": [
        {
          "output_type": "stream",
          "name": "stdout",
          "text": [
            "Already up to date.\n"
          ]
        }
      ]
    },
    {
      "cell_type": "code",
      "source": [
        "!cat requirements.txt"
      ],
      "metadata": {
        "colab": {
          "base_uri": "https://localhost:8080/"
        },
        "id": "4bVHUXsAuVLv",
        "outputId": "ceede42d-7f0c-432b-b23c-dd3fc74f727a"
      },
      "execution_count": 10,
      "outputs": [
        {
          "output_type": "stream",
          "name": "stdout",
          "text": [
            "# flask\n",
            "Flask==2.1.0\n",
            "# gcp\n",
            "gunicorn==20.1.0\n",
            "### ngrok\n",
            "pyngrok==6.0.0\n",
            "flask-ngrok\n",
            "# ngrok==0.8.1 "
          ]
        }
      ]
    },
    {
      "cell_type": "code",
      "source": [
        "!pip install -r requirements.txt"
      ],
      "metadata": {
        "colab": {
          "base_uri": "https://localhost:8080/"
        },
        "id": "qxqZ_OIsR-dF",
        "outputId": "0de08621-cdd9-47e8-b888-5fdf32ac528f"
      },
      "execution_count": 11,
      "outputs": [
        {
          "output_type": "stream",
          "name": "stdout",
          "text": [
            "Requirement already satisfied: Flask==2.1.0 in /usr/local/lib/python3.10/dist-packages (from -r requirements.txt (line 2)) (2.1.0)\n",
            "Requirement already satisfied: gunicorn==20.1.0 in /usr/local/lib/python3.10/dist-packages (from -r requirements.txt (line 4)) (20.1.0)\n",
            "Requirement already satisfied: pyngrok==6.0.0 in /usr/local/lib/python3.10/dist-packages (from -r requirements.txt (line 6)) (6.0.0)\n",
            "Requirement already satisfied: flask-ngrok in /usr/local/lib/python3.10/dist-packages (from -r requirements.txt (line 7)) (0.0.25)\n",
            "Requirement already satisfied: Werkzeug>=2.0 in /usr/local/lib/python3.10/dist-packages (from Flask==2.1.0->-r requirements.txt (line 2)) (2.3.6)\n",
            "Requirement already satisfied: Jinja2>=3.0 in /usr/local/lib/python3.10/dist-packages (from Flask==2.1.0->-r requirements.txt (line 2)) (3.1.2)\n",
            "Requirement already satisfied: itsdangerous>=2.0 in /usr/local/lib/python3.10/dist-packages (from Flask==2.1.0->-r requirements.txt (line 2)) (2.1.2)\n",
            "Requirement already satisfied: click>=8.0 in /usr/local/lib/python3.10/dist-packages (from Flask==2.1.0->-r requirements.txt (line 2)) (8.1.6)\n",
            "Requirement already satisfied: setuptools>=3.0 in /usr/local/lib/python3.10/dist-packages (from gunicorn==20.1.0->-r requirements.txt (line 4)) (67.7.2)\n",
            "Requirement already satisfied: PyYAML in /usr/local/lib/python3.10/dist-packages (from pyngrok==6.0.0->-r requirements.txt (line 6)) (6.0.1)\n",
            "Requirement already satisfied: requests in /usr/local/lib/python3.10/dist-packages (from flask-ngrok->-r requirements.txt (line 7)) (2.27.1)\n",
            "Requirement already satisfied: MarkupSafe>=2.0 in /usr/local/lib/python3.10/dist-packages (from Jinja2>=3.0->Flask==2.1.0->-r requirements.txt (line 2)) (2.1.3)\n",
            "Requirement already satisfied: urllib3<1.27,>=1.21.1 in /usr/local/lib/python3.10/dist-packages (from requests->flask-ngrok->-r requirements.txt (line 7)) (1.26.16)\n",
            "Requirement already satisfied: certifi>=2017.4.17 in /usr/local/lib/python3.10/dist-packages (from requests->flask-ngrok->-r requirements.txt (line 7)) (2023.5.7)\n",
            "Requirement already satisfied: charset-normalizer~=2.0.0 in /usr/local/lib/python3.10/dist-packages (from requests->flask-ngrok->-r requirements.txt (line 7)) (2.0.12)\n",
            "Requirement already satisfied: idna<4,>=2.5 in /usr/local/lib/python3.10/dist-packages (from requests->flask-ngrok->-r requirements.txt (line 7)) (3.4)\n"
          ]
        }
      ]
    },
    {
      "cell_type": "markdown",
      "source": [
        "# Ngrok"
      ],
      "metadata": {
        "id": "OGdwaKUINPnR"
      }
    },
    {
      "cell_type": "code",
      "source": [
        "NGROK_ENV = \"/root/.ngrok2/ngrok.yml\"\n",
        "NGROK_LOCAL = \"ngrok.yaml\""
      ],
      "metadata": {
        "id": "B5dvTnCyLYMT"
      },
      "execution_count": 12,
      "outputs": []
    },
    {
      "cell_type": "code",
      "source": [
        "# !ngrok authtoken 2SwRcL56pZ0qBsTGtxtty3qVePt_6q9mrXV7f6P5wXCmekL7Q"
      ],
      "metadata": {
        "id": "IXqpZy3y04B5"
      },
      "execution_count": 13,
      "outputs": []
    },
    {
      "cell_type": "markdown",
      "source": [
        "### Registration"
      ],
      "metadata": {
        "id": "sZF1oPgHB2om"
      }
    },
    {
      "cell_type": "code",
      "source": [
        "# !ngrok http 5000 --region us\n",
        "# !ngrok http 5000 --region eu\n",
        "# !ngrok http 5000 --host-header=\"localhost:5000\""
      ],
      "metadata": {
        "id": "Mu-ctcQp0gN7"
      },
      "execution_count": 14,
      "outputs": []
    },
    {
      "cell_type": "code",
      "source": [
        "!cp $NGROK_LOCAL $NGROK_ENV"
      ],
      "metadata": {
        "id": "hLQMVP7UlYPk"
      },
      "execution_count": 17,
      "outputs": []
    },
    {
      "cell_type": "code",
      "source": [
        "!cat $NGROK_ENV"
      ],
      "metadata": {
        "colab": {
          "base_uri": "https://localhost:8080/"
        },
        "id": "Om82k73toioS",
        "outputId": "bd47b81b-acba-41b6-f330-1071a77ad3c3"
      },
      "execution_count": 18,
      "outputs": [
        {
          "output_type": "stream",
          "name": "stdout",
          "text": [
            "region: us\n",
            "version: '2'\n",
            "authtoken: 2SwRcL56pZ0qBsTGtxtty3qVePt_6q9mrXV7f6P5wXCmekL7Q\n",
            "tunnels:\n",
            "  tunnel1:\n",
            "    addr: http://localhost:5000 \n",
            "    proto: http    \n"
          ]
        }
      ]
    },
    {
      "cell_type": "markdown",
      "source": [
        "### Diagnose"
      ],
      "metadata": {
        "id": "819go3q_B4g6"
      }
    },
    {
      "cell_type": "code",
      "source": [
        "!ngrok diagnose"
      ],
      "metadata": {
        "colab": {
          "base_uri": "https://localhost:8080/"
        },
        "id": "5JR8J7oL45gn",
        "outputId": "7053886e-8d9e-4cc6-d176-c99af550a01b"
      },
      "execution_count": 19,
      "outputs": [
        {
          "output_type": "stream",
          "name": "stdout",
          "text": [
            "Testing ngrok connectivity...\n",
            "\n",
            "Internet Connectivity\n",
            "  Name Resolution                           [ OK ]\n",
            "  TCP                                       [ OK ]\n",
            "  TLS                                       [ OK ]\n",
            "Localhost Connectivity\n",
            "  Name Resolution                           [ OK ]\n",
            "Ngrok Connectivity - Region: United States\n",
            "  Name Resolution                           [ OK ]\n",
            "  TCP                                       [ OK ]\n",
            "  TLS                                       [ OK ]\n",
            "  Tunnel Protocol                           [ OK ]\n",
            "Successfully established ngrok connection! (region: 'us', latency: 95.189188ms)\n",
            "\n"
          ]
        }
      ]
    },
    {
      "cell_type": "code",
      "source": [
        "# !ngrok log_level info"
      ],
      "metadata": {
        "id": "EErHDxiwNp1g"
      },
      "execution_count": 23,
      "outputs": []
    },
    {
      "cell_type": "markdown",
      "source": [
        "# Flask"
      ],
      "metadata": {
        "id": "z92uiXHUNR57"
      }
    },
    {
      "cell_type": "code",
      "source": [
        "# os.environ['FLASK_DEBUG'] = '0'\n",
        "# os.environ['FLASK_APP'] = 'main.py'\n",
        "# os.environ[\"FLASK_ENV\"] = 'development'"
      ],
      "metadata": {
        "id": "L6vXv6FlH48c"
      },
      "execution_count": 24,
      "outputs": []
    },
    {
      "cell_type": "markdown",
      "source": [
        "# Run"
      ],
      "metadata": {
        "id": "KFFqus2COlUu"
      }
    },
    {
      "cell_type": "code",
      "source": [
        "!python main.py"
      ],
      "metadata": {
        "colab": {
          "base_uri": "https://localhost:8080/"
        },
        "id": "PVhR8apRtGa5",
        "outputId": "efb839ed-9ccb-46a7-aa4f-bbb3ec4c87cc"
      },
      "execution_count": null,
      "outputs": [
        {
          "output_type": "stream",
          "name": "stdout",
          "text": [
            " * Serving Flask app 'main' (lazy loading)\n",
            " * Environment: production\n",
            "\u001b[31m   WARNING: This is a development server. Do not use it in a production deployment.\u001b[0m\n",
            "\u001b[2m   Use a production WSGI server instead.\u001b[0m\n",
            " * Debug mode: off\n",
            "\u001b[31m\u001b[1mWARNING: This is a development server. Do not use it in a production deployment. Use a production WSGI server instead.\u001b[0m\n",
            " * Running on http://127.0.0.1:5000\n",
            "\u001b[33mPress CTRL+C to quit\u001b[0m\n",
            " * Running on http://099a-34-90-221-172.ngrok-free.app\n",
            " * Traffic stats available on http://127.0.0.1:4040\n",
            "127.0.0.1 - - [23/Jul/2023 00:07:34] \"GET / HTTP/1.1\" 200 -\n",
            "127.0.0.1 - - [23/Jul/2023 00:07:34] \"\u001b[33mGET /favicon.ico HTTP/1.1\u001b[0m\" 404 -\n",
            "127.0.0.1 - - [23/Jul/2023 00:07:46] \"\u001b[31m\u001b[1mPOST /?snake_name=alphabeta_brain_1 HTTP/1.1\u001b[0m\" 405 -\n"
          ]
        }
      ]
    },
    {
      "cell_type": "code",
      "source": [],
      "metadata": {
        "id": "boYcUChHSM2p"
      },
      "execution_count": 22,
      "outputs": []
    }
  ]
}